{
 "cells": [
  {
   "cell_type": "raw",
   "id": "8b2f6f7c-fe97-4886-9f19-7d6df6e52970",
   "metadata": {},
   "source": [
    "1. What is the difference between interpreted and compiled languages?\n",
    "\n",
    "Compiled languages translate the entire source code into machine code before execution, leading to faster runtime but slower compilation.\n",
    "Interpreted languages execute code line-by-line at runtime, making them slower but more flexible and platform-independent."
   ]
  },
  {
   "cell_type": "raw",
   "id": "9befd34b-1d5b-4506-ae98-65a90ec9f01f",
   "metadata": {},
   "source": [
    "2. What is exception handling in Python?\n",
    "\n",
    "Exception handling in Python is a mechanism to handle runtime errors using try, except, finally, and else blocks to prevent program crashes."
   ]
  },
  {
   "cell_type": "raw",
   "id": "89382735-c62d-42ce-b432-083738857758",
   "metadata": {},
   "source": [
    "3. What is the purpose of the finally block in exception handling?\n",
    "\n",
    "The finally block is always executed, regardless of whether an exception occurs, ensuring resource cleanup like closing files or releasing memory."
   ]
  },
  {
   "cell_type": "raw",
   "id": "612be858-936c-421e-a933-2071d658b5bb",
   "metadata": {},
   "source": [
    "4. What is logging in Python?\n",
    "\n",
    "Logging is a mechanism in Python to record runtime events, errors, and warnings using the logging module, aiding debugging and monitoring."
   ]
  },
  {
   "cell_type": "raw",
   "id": "9942848d-0ae4-4ccc-812f-0b8bed637b76",
   "metadata": {},
   "source": [
    "5. What is the significance of the __del__ method in Python?\n",
    "\n",
    "The __del__ method is a destructor called when an object is deleted or goes out of scope, used for cleanup activities."
   ]
  },
  {
   "cell_type": "raw",
   "id": "baa4138e-88f8-4a79-8fe2-d5bd36fb401d",
   "metadata": {},
   "source": [
    "6. What is the difference between import and from ... import in Python?\n",
    "\n",
    "import module_name imports the whole module, requiring module_name.function(), whereas from module_name import function_name allows direct use of function_name()."
   ]
  },
  {
   "cell_type": "raw",
   "id": "692dc678-f4ba-4d05-bdda-0744805b720c",
   "metadata": {},
   "source": [
    "7. How can you handle multiple exceptions in Python?\n",
    "\n",
    "Multiple exceptions can be handled using multiple except blocks or a single except block with a tuple of exceptions:"
   ]
  },
  {
   "cell_type": "raw",
   "id": "6d330d72-80df-4e67-b7ee-dfc5a00d156c",
   "metadata": {},
   "source": [
    "8. What is the purpose of the with statement when handling files in Python?\n",
    "\n",
    "The with statement ensures a file is properly closed after its block of code executes, preventing resource leaks."
   ]
  },
  {
   "cell_type": "raw",
   "id": "d1574751-a7ca-4c63-b21c-f5f69751c3d4",
   "metadata": {},
   "source": [
    "9. What is the difference between multithreading and multiprocessing?\n",
    "\n",
    "Multithreading: Runs multiple threads within the same process, sharing memory.\n",
    "Multiprocessing: Runs separate processes, each with its own memory space."
   ]
  },
  {
   "cell_type": "raw",
   "id": "c4852281-d46f-4da7-9ed2-f669e2979149",
   "metadata": {},
   "source": [
    "10. What are the advantages of using logging in a program?\n",
    "\n",
    "Provides debugging information, helps track program execution, allows log analysis, and can store logs for audits."
   ]
  },
  {
   "cell_type": "raw",
   "id": "fa866064-eab7-4f03-8b55-a8f0c5f3f7aa",
   "metadata": {},
   "source": [
    "11. What is memory management in Python?\n",
    "\n",
    "Memory management in Python is handled by the interpreter using techniques like reference counting and garbage collection."
   ]
  },
  {
   "cell_type": "raw",
   "id": "bd0f2a54-859c-4a5c-90d1-475250e54f28",
   "metadata": {},
   "source": [
    "12. What are the basic steps involved in exception handling in Python?\n",
    "\n",
    "Use try to enclose risky code, except to catch errors, else for code execution when no exceptions occur, and finally for cleanup."
   ]
  },
  {
   "cell_type": "raw",
   "id": "843bc46d-62d6-45d5-a867-921c7a3d57a4",
   "metadata": {},
   "source": [
    "13. Why is memory management important in Python?\n",
    "\n",
    "Prevents memory leaks, optimizes performance, and ensures efficient resource allocation."
   ]
  },
  {
   "cell_type": "raw",
   "id": "14bfa310-9ddd-4fca-8f29-28aa9b2b83b4",
   "metadata": {},
   "source": [
    "14. What is the role of try and except in exception handling?\n",
    "\n",
    "The try block contains code that may cause an exception, and the except block handles the error gracefully."
   ]
  },
  {
   "cell_type": "raw",
   "id": "c25dadbd-a623-4550-88f6-ce2d41fb9fed",
   "metadata": {},
   "source": [
    "15. How does Python's garbage collection system work?\n",
    "\n",
    "Uses reference counting and cyclic garbage collection to free unused memory automatically."
   ]
  },
  {
   "cell_type": "raw",
   "id": "c605369a-b535-4c85-bb86-cbf90e7d3318",
   "metadata": {},
   "source": [
    "16. What is the purpose of the else block in exception handling?\n",
    "\n",
    "Runs only if no exceptions occur in the try block."
   ]
  },
  {
   "cell_type": "raw",
   "id": "7b22f470-434a-4444-b5ff-a0fd56411a24",
   "metadata": {},
   "source": [
    "17. What are the common logging levels in Python?\n",
    "\n",
    "DEBUG, INFO, WARNING, ERROR, CRITICAL."
   ]
  },
  {
   "cell_type": "raw",
   "id": "6ea09efd-90d6-4332-9b66-9a80a27e9aa6",
   "metadata": {},
   "source": [
    "18. What is the difference between os.fork() and multiprocessing in Python?\n",
    "\n",
    "os.fork() creates a child process (Unix only), while multiprocessing works cross-platform with independent process creation."
   ]
  },
  {
   "cell_type": "raw",
   "id": "5687d116-d167-4e42-a710-c2b7246929b3",
   "metadata": {},
   "source": [
    "19. What is the importance of closing a file in Python?\n",
    "\n",
    "Prevents resource leaks and ensures data integrity."
   ]
  },
  {
   "cell_type": "raw",
   "id": "75191f96-b34f-4e2c-83bc-67d35caadcf1",
   "metadata": {},
   "source": [
    "20. What is the difference between file.read() and file.readline() in Python?\n",
    "\n",
    "file.read() reads the entire file, while file.readline() reads a single line."
   ]
  },
  {
   "cell_type": "raw",
   "id": "ef0d54d9-e8ef-43a5-8803-d48b119a2a8c",
   "metadata": {},
   "source": [
    "21. What is the logging module in Python used for?\n",
    "\n",
    "Used for logging messages to a file or console."
   ]
  },
  {
   "cell_type": "raw",
   "id": "6b27b132-1244-47e2-81a3-8d839ab7e0cc",
   "metadata": {},
   "source": [
    "22. What is the os module in Python used for in file handling?\n",
    "\n",
    "Provides functions for interacting with the operating system, such as handling files and directories."
   ]
  },
  {
   "cell_type": "raw",
   "id": "0f6074df-5c6f-474a-932a-90f9a66027ee",
   "metadata": {},
   "source": [
    "23. What are the challenges associated with memory management in Python?\n",
    "\n",
    "High memory consumption, cyclic references, and garbage collection overhead."
   ]
  },
  {
   "cell_type": "raw",
   "id": "c6792be3-9580-484e-99ec-b4424c51edcf",
   "metadata": {
    "jp-MarkdownHeadingCollapsed": true
   },
   "source": [
    "24. How do you raise an exception manually in Python?\n",
    "\n",
    "Using the raise keyword:\n",
    "raise ValueError(\"Custom error message\")\n"
   ]
  },
  {
   "cell_type": "raw",
   "id": "9efa13c9-2590-4e54-b921-6fbcd6499a80",
   "metadata": {},
   "source": [
    "25. Why is it important to use multithreading in certain applications?\n",
    "\n",
    "Helps improve performance for I/O-bound tasks, like network requests or file I/O, by running tasks concurrently."
   ]
  },
  {
   "cell_type": "code",
   "execution_count": null,
   "id": "9521bc58-4e13-4a34-baec-a3b39f885fc6",
   "metadata": {},
   "outputs": [],
   "source": []
  },
  {
   "cell_type": "raw",
   "id": "a98f2841-e8b9-4e9b-a726-78d807a5ca62",
   "metadata": {},
   "source": [
    "PRACTICAL QUESTIONS"
   ]
  },
  {
   "cell_type": "raw",
   "id": "85192d31-6fec-4181-8c68-f75379da3729",
   "metadata": {},
   "source": [
    "1. How can you open a file for writing in Python and write a string to it?"
   ]
  },
  {
   "cell_type": "code",
   "execution_count": 4,
   "id": "c54d6c4e-efee-46d9-ba51-0f121f14ae27",
   "metadata": {},
   "outputs": [],
   "source": [
    "\n",
    "with open('example.txt', 'w') as file:\n",
    "    file.write('Hello, this is a sample text.')\n"
   ]
  },
  {
   "cell_type": "raw",
   "id": "40cdf6ea-81ef-4e80-bf1a-9f83e00d08d3",
   "metadata": {},
   "source": [
    "2. Write a Python program to read the contents of a file and print each line."
   ]
  },
  {
   "cell_type": "code",
   "execution_count": 6,
   "id": "8448b46f-582d-49ac-b85d-dadfb3361d16",
   "metadata": {},
   "outputs": [
    {
     "name": "stdout",
     "output_type": "stream",
     "text": [
      "Hello, this is a sample text.\n"
     ]
    }
   ],
   "source": [
    "with open('example.txt', 'r') as file:\n",
    "    for line in file:\n",
    "        print(line.strip())\n"
   ]
  },
  {
   "cell_type": "raw",
   "id": "afdc0cbe-0407-4dde-a32a-e4f70a180002",
   "metadata": {},
   "source": [
    "3. How would you handle a case where the file doesn't exist while trying to open it for reading?"
   ]
  },
  {
   "cell_type": "code",
   "execution_count": 8,
   "id": "25858862-dc4a-4fd8-afcf-aaa60b21678a",
   "metadata": {},
   "outputs": [
    {
     "name": "stdout",
     "output_type": "stream",
     "text": [
      "The file does not exist.\n"
     ]
    }
   ],
   "source": [
    "try:\n",
    "    with open('non_existent_file.txt', 'r') as file:\n",
    "        content = file.read()\n",
    "        print(content)\n",
    "except FileNotFoundError:\n",
    "    print(\"The file does not exist.\")\n"
   ]
  },
  {
   "cell_type": "raw",
   "id": "48bf1150-a2a2-4fef-b316-78dcabf11f21",
   "metadata": {},
   "source": [
    "4. Write a Python script that reads from one file and writes its content to another file."
   ]
  },
  {
   "cell_type": "code",
   "execution_count": 30,
   "id": "4abedefe-f369-42a3-a537-f5c88d218ed4",
   "metadata": {},
   "outputs": [
    {
     "ename": "FileNotFoundError",
     "evalue": "[Errno 2] No such file or directory: 'source.txt'",
     "output_type": "error",
     "traceback": [
      "\u001b[1;31m---------------------------------------------------------------------------\u001b[0m",
      "\u001b[1;31mFileNotFoundError\u001b[0m                         Traceback (most recent call last)",
      "Cell \u001b[1;32mIn[30], line 1\u001b[0m\n\u001b[1;32m----> 1\u001b[0m \u001b[38;5;28;01mwith\u001b[39;00m \u001b[38;5;28mopen\u001b[39m(\u001b[38;5;124m'\u001b[39m\u001b[38;5;124msource.txt\u001b[39m\u001b[38;5;124m'\u001b[39m, \u001b[38;5;124m'\u001b[39m\u001b[38;5;124mr\u001b[39m\u001b[38;5;124m'\u001b[39m) \u001b[38;5;28;01mas\u001b[39;00m source_file:\n\u001b[0;32m      2\u001b[0m     content \u001b[38;5;241m=\u001b[39m source_file\u001b[38;5;241m.\u001b[39mread()\n\u001b[0;32m      4\u001b[0m \u001b[38;5;28;01mwith\u001b[39;00m \u001b[38;5;28mopen\u001b[39m(\u001b[38;5;124m'\u001b[39m\u001b[38;5;124mdestination.txt\u001b[39m\u001b[38;5;124m'\u001b[39m, \u001b[38;5;124m'\u001b[39m\u001b[38;5;124mw\u001b[39m\u001b[38;5;124m'\u001b[39m) \u001b[38;5;28;01mas\u001b[39;00m destination_file:\n",
      "File \u001b[1;32m~\\anaconda3\\Lib\\site-packages\\IPython\\core\\interactiveshell.py:324\u001b[0m, in \u001b[0;36m_modified_open\u001b[1;34m(file, *args, **kwargs)\u001b[0m\n\u001b[0;32m    317\u001b[0m \u001b[38;5;28;01mif\u001b[39;00m file \u001b[38;5;129;01min\u001b[39;00m {\u001b[38;5;241m0\u001b[39m, \u001b[38;5;241m1\u001b[39m, \u001b[38;5;241m2\u001b[39m}:\n\u001b[0;32m    318\u001b[0m     \u001b[38;5;28;01mraise\u001b[39;00m \u001b[38;5;167;01mValueError\u001b[39;00m(\n\u001b[0;32m    319\u001b[0m         \u001b[38;5;124mf\u001b[39m\u001b[38;5;124m\"\u001b[39m\u001b[38;5;124mIPython won\u001b[39m\u001b[38;5;124m'\u001b[39m\u001b[38;5;124mt let you open fd=\u001b[39m\u001b[38;5;132;01m{\u001b[39;00mfile\u001b[38;5;132;01m}\u001b[39;00m\u001b[38;5;124m by default \u001b[39m\u001b[38;5;124m\"\u001b[39m\n\u001b[0;32m    320\u001b[0m         \u001b[38;5;124m\"\u001b[39m\u001b[38;5;124mas it is likely to crash IPython. If you know what you are doing, \u001b[39m\u001b[38;5;124m\"\u001b[39m\n\u001b[0;32m    321\u001b[0m         \u001b[38;5;124m\"\u001b[39m\u001b[38;5;124myou can use builtins\u001b[39m\u001b[38;5;124m'\u001b[39m\u001b[38;5;124m open.\u001b[39m\u001b[38;5;124m\"\u001b[39m\n\u001b[0;32m    322\u001b[0m     )\n\u001b[1;32m--> 324\u001b[0m \u001b[38;5;28;01mreturn\u001b[39;00m io_open(file, \u001b[38;5;241m*\u001b[39margs, \u001b[38;5;241m*\u001b[39m\u001b[38;5;241m*\u001b[39mkwargs)\n",
      "\u001b[1;31mFileNotFoundError\u001b[0m: [Errno 2] No such file or directory: 'source.txt'"
     ]
    }
   ],
   "source": [
    "\n",
    "with open('source.txt', 'r') as source_file:\n",
    "    content = source_file.read()\n",
    "\n",
    "with open('destination.txt', 'w') as destination_file:\n",
    "    destination_file.write(content)\n"
   ]
  },
  {
   "cell_type": "raw",
   "id": "a2cb2014-d696-4345-8b5b-07f1a2c9bc8b",
   "metadata": {},
   "source": [
    "5. How would you catch and handle a division by zero error in Python?"
   ]
  },
  {
   "cell_type": "code",
   "execution_count": 28,
   "id": "6a213d57-c433-4c14-9fdc-abdc2f28ebf8",
   "metadata": {},
   "outputs": [
    {
     "name": "stdout",
     "output_type": "stream",
     "text": [
      "Division by zero is not allowed.\n"
     ]
    }
   ],
   "source": [
    "try:\n",
    "    result = 10 / 0\n",
    "except ZeroDivisionError:\n",
    "    print(\"Division by zero is not allowed.\")\n"
   ]
  },
  {
   "cell_type": "raw",
   "id": "3aad7fde-cb01-4990-91d1-9a2a8d5f011c",
   "metadata": {},
   "source": [
    "6. Write a Python program that logs an error message to a log file when a division by zero exception occurs."
   ]
  },
  {
   "cell_type": "code",
   "execution_count": 26,
   "id": "0fa8b64f-7fb2-4ebe-b6bd-ceba4a604638",
   "metadata": {},
   "outputs": [],
   "source": [
    "import logging\n",
    "\n",
    "\n",
    "logging.basicConfig(filename='error.log', level=logging.ERROR)\n",
    "\n",
    "try:\n",
    "    result = 10 / 0\n",
    "except ZeroDivisionError as e:\n",
    "    logging.error(f\"Error occurred: {e}\")\n"
   ]
  },
  {
   "cell_type": "raw",
   "id": "4d14959d-fe26-4bd9-8c86-40f522c5bb92",
   "metadata": {},
   "source": [
    "7. How do you log information at different levels (INFO, ERROR, WARNING) in Python using the logging module?"
   ]
  },
  {
   "cell_type": "code",
   "execution_count": 24,
   "id": "620c9e8a-a71d-4d99-97ef-37388359d59f",
   "metadata": {},
   "outputs": [],
   "source": [
    "import logging\n",
    "\n",
    "\n",
    "logging.basicConfig(filename='app.log', level=logging.DEBUG)\n",
    "\n",
    "logging.debug('This is a DEBUG message')\n",
    "logging.info('This is an INFO message')\n",
    "logging.warning('This is a WARNING message')\n",
    "logging.error('This is an ERROR message')\n",
    "logging.critical('This is a CRITICAL message')\n"
   ]
  },
  {
   "cell_type": "raw",
   "id": "0bedc064-de53-4556-a538-1c8ee0671800",
   "metadata": {},
   "source": [
    "8. Write a program to handle a file opening error using exception handling."
   ]
  },
  {
   "cell_type": "code",
   "execution_count": 22,
   "id": "0fb06fb1-d6ad-462f-9dc6-1dddcd8152b8",
   "metadata": {},
   "outputs": [
    {
     "name": "stdout",
     "output_type": "stream",
     "text": [
      "Error: File not found.\n"
     ]
    }
   ],
   "source": [
    "try:\n",
    "    with open('non_existent_file.txt', 'r') as file:\n",
    "        content = file.read()\n",
    "except FileNotFoundError:\n",
    "    print(\"Error: File not found.\")\n"
   ]
  },
  {
   "cell_type": "raw",
   "id": "8abbb76f-bb01-432b-8ed4-e16348762553",
   "metadata": {},
   "source": [
    "\n",
    "9. How can you read a file line by line and store its content in a list in Python?"
   ]
  },
  {
   "cell_type": "code",
   "execution_count": 20,
   "id": "59d4046c-dbcc-4fac-89c2-a3d895faae1b",
   "metadata": {},
   "outputs": [
    {
     "name": "stdout",
     "output_type": "stream",
     "text": [
      "['Hello, this is a sample text.', 'This is an additional line.']\n"
     ]
    }
   ],
   "source": [
    "with open('example.txt', 'r') as file:\n",
    "    lines = [line.strip() for line in file.readlines()]\n",
    "\n",
    "print(lines)\n"
   ]
  },
  {
   "cell_type": "raw",
   "id": "666c6dde-3ad5-4f43-b663-18a9015f04d1",
   "metadata": {},
   "source": [
    "\n",
    "10. How can you append data to an existing file in Python?"
   ]
  },
  {
   "cell_type": "code",
   "execution_count": 18,
   "id": "bfa62c8a-7728-464e-84eb-93abe883dea7",
   "metadata": {},
   "outputs": [],
   "source": [
    "\n",
    "with open('example.txt', 'a') as file:\n",
    "    file.write('\\nThis is an additional line.')\n"
   ]
  },
  {
   "cell_type": "raw",
   "id": "e9649ff1-1d49-4b33-9164-9a9129babf8f",
   "metadata": {},
   "source": [
    "11. Write a Python program that uses a try-except block to handle an error when attempting to access a dictionary key that doesn't exist."
   ]
  },
  {
   "cell_type": "code",
   "execution_count": 16,
   "id": "319bf43d-d10b-4fd4-b08f-7c25716c995c",
   "metadata": {},
   "outputs": [
    {
     "name": "stdout",
     "output_type": "stream",
     "text": [
      "Error: Key not found.\n"
     ]
    }
   ],
   "source": [
    "my_dict = {'name': 'Alice', 'age': 25}\n",
    "\n",
    "try:\n",
    "    value = my_dict['address']\n",
    "except KeyError:\n",
    "    print(\"Error: Key not found.\")\n"
   ]
  },
  {
   "cell_type": "raw",
   "id": "64851f11-f686-49e4-8dd7-ca13e7921b03",
   "metadata": {},
   "source": [
    "12. Write a program that demonstrates using multiple except blocks to handle different types of exceptions."
   ]
  },
  {
   "cell_type": "code",
   "execution_count": 14,
   "id": "43cbd489-2958-4c4b-ae6c-79697afa4581",
   "metadata": {},
   "outputs": [
    {
     "name": "stdout",
     "output_type": "stream",
     "text": [
      "ValueError: Cannot convert string to integer.\n"
     ]
    }
   ],
   "source": [
    "try:\n",
    "    num = int('hello')\n",
    "    result = 10 / 0\n",
    "except ValueError:\n",
    "    print(\"ValueError: Cannot convert string to integer.\")\n",
    "except ZeroDivisionError:\n",
    "    print(\"ZeroDivisionError: Division by zero is not allowed.\")\n"
   ]
  },
  {
   "cell_type": "raw",
   "id": "59a8a52a-7372-437b-ab0b-213383040544",
   "metadata": {},
   "source": [
    "13. How would you check if a file exists before attempting to read it in Python?"
   ]
  },
  {
   "cell_type": "code",
   "execution_count": 12,
   "id": "b63a0d4a-0e0e-4d0f-b37f-d44b747f4be3",
   "metadata": {},
   "outputs": [
    {
     "name": "stdout",
     "output_type": "stream",
     "text": [
      "Hello, this is a sample text.\n"
     ]
    }
   ],
   "source": [
    "import os\n",
    "\n",
    "file_name = 'example.txt'\n",
    "\n",
    "if os.path.exists(file_name):\n",
    "    with open(file_name, 'r') as file:\n",
    "        content = file.read()\n",
    "        print(content)\n",
    "else:\n",
    "    print(\"The file does not exist.\")\n"
   ]
  },
  {
   "cell_type": "raw",
   "id": "751b4ce2-361e-4b7b-b07c-72559d7c161a",
   "metadata": {},
   "source": [
    "14. Write a program that uses the logging module to log both informational and error messages."
   ]
  },
  {
   "cell_type": "code",
   "execution_count": null,
   "id": "b6d6dfa7-3dc7-4565-8f57-b586c8549c18",
   "metadata": {},
   "outputs": [],
   "source": [
    "import logging\n",
    "\n",
    "\n",
    "logging.basicConfig(filename='app.log', level=logging.INFO)\n",
    "\n",
    "logging.info('This is an informational message.')\n",
    "try:\n",
    "    result = 10 / 0\n",
    "except ZeroDivisionError as e:\n",
    "    logging.error(f\"Error occurred: {e}\")\n"
   ]
  },
  {
   "cell_type": "raw",
   "id": "bf6c5899-6503-4a70-9c6b-7139596d2491",
   "metadata": {},
   "source": [
    "15. Write a Python program that prints the content of a file and handles the case when the file is empty."
   ]
  },
  {
   "cell_type": "code",
   "execution_count": 32,
   "id": "e612ed83-1803-4cb3-9bb9-402005a9b034",
   "metadata": {},
   "outputs": [
    {
     "name": "stdout",
     "output_type": "stream",
     "text": [
      "The file does not exist.\n"
     ]
    }
   ],
   "source": [
    "file_name = 'empty_file.txt'\n",
    "\n",
    "try:\n",
    "    with open(file_name, 'r') as file:\n",
    "        content = file.read()\n",
    "        if not content:\n",
    "            print(\"The file is empty.\")\n",
    "        else:\n",
    "            print(content)\n",
    "except FileNotFoundError:\n",
    "    print(\"The file does not exist.\")\n"
   ]
  },
  {
   "cell_type": "raw",
   "id": "3092f657-4a80-4112-b83a-2777561ac98b",
   "metadata": {},
   "source": [
    "16. Demonstrate how to use memory profiling to check the memory usage of a small program."
   ]
  },
  {
   "cell_type": "code",
   "execution_count": 34,
   "id": "ad9b52f5-d6e5-4756-8240-d18b2a35a143",
   "metadata": {},
   "outputs": [
    {
     "ename": "ModuleNotFoundError",
     "evalue": "No module named 'memory_profiler'",
     "output_type": "error",
     "traceback": [
      "\u001b[1;31m---------------------------------------------------------------------------\u001b[0m",
      "\u001b[1;31mModuleNotFoundError\u001b[0m                       Traceback (most recent call last)",
      "Cell \u001b[1;32mIn[34], line 1\u001b[0m\n\u001b[1;32m----> 1\u001b[0m \u001b[38;5;28;01mfrom\u001b[39;00m \u001b[38;5;21;01mmemory_profiler\u001b[39;00m \u001b[38;5;28;01mimport\u001b[39;00m profile\n\u001b[0;32m      3\u001b[0m \u001b[38;5;129m@profile\u001b[39m\n\u001b[0;32m      4\u001b[0m \u001b[38;5;28;01mdef\u001b[39;00m \u001b[38;5;21mmemory_intensive_task\u001b[39m():\n\u001b[0;32m      5\u001b[0m     data \u001b[38;5;241m=\u001b[39m [i \u001b[38;5;28;01mfor\u001b[39;00m i \u001b[38;5;129;01min\u001b[39;00m \u001b[38;5;28mrange\u001b[39m(\u001b[38;5;241m1000000\u001b[39m)]\n",
      "\u001b[1;31mModuleNotFoundError\u001b[0m: No module named 'memory_profiler'"
     ]
    }
   ],
   "source": [
    "from memory_profiler import profile\n",
    "\n",
    "@profile\n",
    "def memory_intensive_task():\n",
    "    data = [i for i in range(1000000)]\n",
    "    return data\n",
    "\n",
    "memory_intensive_task()\n"
   ]
  },
  {
   "cell_type": "raw",
   "id": "e0542814-5ba7-4f3a-a4f3-6abb07b63648",
   "metadata": {},
   "source": [
    "17. Write a Python program to create and write a list of numbers to a file, one number per line."
   ]
  },
  {
   "cell_type": "code",
   "execution_count": 40,
   "id": "73168f57-bb07-4453-b190-c315068832ad",
   "metadata": {},
   "outputs": [],
   "source": [
    "numbers = [1, 2, 3, 4, 5]\n",
    "\n",
    "with open('numbers.txt', 'w') as file:\n",
    "    for number in numbers:\n",
    "        file.write(f\"{number}\\n\")\n"
   ]
  },
  {
   "cell_type": "raw",
   "id": "ba3864ad-4acc-483f-8a3f-4b1ae58b87a0",
   "metadata": {},
   "source": [
    "18. How would you implement a basic logging setup that logs to a file with rotation after 1MB?"
   ]
  },
  {
   "cell_type": "code",
   "execution_count": 42,
   "id": "861a7e16-62a2-4fad-8a9a-ea1b1737e272",
   "metadata": {},
   "outputs": [],
   "source": [
    "import logging\n",
    "from logging.handlers import RotatingFileHandler\n",
    "\n",
    "\n",
    "handler = RotatingFileHandler('app.log', maxBytes=1024 * 1024, backupCount=5)\n",
    "logger = logging.getLogger('my_logger')\n",
    "logger.setLevel(logging.INFO)\n",
    "logger.addHandler(handler)\n",
    "\n",
    "\n",
    "for i in range(100):\n",
    "    logger.info(f'Log message {i}')\n"
   ]
  },
  {
   "cell_type": "raw",
   "id": "85e77542-ba6c-45b8-ad4b-a5ed4dc97cab",
   "metadata": {},
   "source": [
    "19. Write a program that handles both IndexError and KeyError using a try-except block."
   ]
  },
  {
   "cell_type": "code",
   "execution_count": 44,
   "id": "3e367c99-48bd-4849-a359-f435e5c4e532",
   "metadata": {},
   "outputs": [
    {
     "name": "stdout",
     "output_type": "stream",
     "text": [
      "IndexError: List index out of range.\n"
     ]
    }
   ],
   "source": [
    "my_list = [1, 2, 3]\n",
    "my_dict = {'name': 'Alice'}\n",
    "\n",
    "try:\n",
    "    print(my_list[5])\n",
    "    print(my_dict['age'])\n",
    "except IndexError:\n",
    "    print(\"IndexError: List index out of range.\")\n",
    "except KeyError:\n",
    "    print(\"KeyError: Dictionary key not found.\")\n"
   ]
  },
  {
   "cell_type": "raw",
   "id": "5ba41239-4eb7-4513-b9e0-83b23a4a9785",
   "metadata": {},
   "source": [
    "20. How would you open a file and read its contents using a context manager in Python?"
   ]
  },
  {
   "cell_type": "code",
   "execution_count": 46,
   "id": "fb75cb32-e772-4c9f-b9a0-68a471a389d4",
   "metadata": {},
   "outputs": [
    {
     "name": "stdout",
     "output_type": "stream",
     "text": [
      "Hello, this is a sample text.\n",
      "This is an additional line.\n"
     ]
    }
   ],
   "source": [
    "with open('example.txt', 'r') as file:\n",
    "    content = file.read()\n",
    "    print(content)\n"
   ]
  },
  {
   "cell_type": "raw",
   "id": "db437415-fda2-4dc4-b683-93078aaa205b",
   "metadata": {},
   "source": [
    "21. Write a Python program that reads a file and prints the number of occurrences of a specific word."
   ]
  },
  {
   "cell_type": "code",
   "execution_count": 48,
   "id": "cf1702e7-e437-4fc5-a0cd-ac497ff60ddb",
   "metadata": {},
   "outputs": [
    {
     "name": "stdout",
     "output_type": "stream",
     "text": [
      "The word 'hello' appears 0 times.\n"
     ]
    }
   ],
   "source": [
    "word_to_count = 'hello'\n",
    "count = 0\n",
    "\n",
    "with open('example.txt', 'r') as file:\n",
    "    for line in file:\n",
    "        count += line.lower().split().count(word_to_count.lower())\n",
    "\n",
    "print(f\"The word '{word_to_count}' appears {count} times.\")\n"
   ]
  },
  {
   "cell_type": "raw",
   "id": "1bce2df6-1bac-4a28-a6bb-0303ce797d59",
   "metadata": {},
   "source": [
    "22. How can you check if a file is empty before attempting to read its contents?"
   ]
  },
  {
   "cell_type": "code",
   "execution_count": 50,
   "id": "80b92b2e-91d9-4cbe-8958-1bd8d0c8fcbf",
   "metadata": {},
   "outputs": [
    {
     "ename": "FileNotFoundError",
     "evalue": "[Errno 2] No such file or directory: 'empty_file.txt'",
     "output_type": "error",
     "traceback": [
      "\u001b[1;31m---------------------------------------------------------------------------\u001b[0m",
      "\u001b[1;31mFileNotFoundError\u001b[0m                         Traceback (most recent call last)",
      "Cell \u001b[1;32mIn[50], line 8\u001b[0m\n\u001b[0;32m      6\u001b[0m     \u001b[38;5;28mprint\u001b[39m(\u001b[38;5;124m\"\u001b[39m\u001b[38;5;124mThe file is empty.\u001b[39m\u001b[38;5;124m\"\u001b[39m)\n\u001b[0;32m      7\u001b[0m \u001b[38;5;28;01melse\u001b[39;00m:\n\u001b[1;32m----> 8\u001b[0m     \u001b[38;5;28;01mwith\u001b[39;00m \u001b[38;5;28mopen\u001b[39m(file_name, \u001b[38;5;124m'\u001b[39m\u001b[38;5;124mr\u001b[39m\u001b[38;5;124m'\u001b[39m) \u001b[38;5;28;01mas\u001b[39;00m file:\n\u001b[0;32m      9\u001b[0m         \u001b[38;5;28mprint\u001b[39m(file\u001b[38;5;241m.\u001b[39mread())\n",
      "File \u001b[1;32m~\\anaconda3\\Lib\\site-packages\\IPython\\core\\interactiveshell.py:324\u001b[0m, in \u001b[0;36m_modified_open\u001b[1;34m(file, *args, **kwargs)\u001b[0m\n\u001b[0;32m    317\u001b[0m \u001b[38;5;28;01mif\u001b[39;00m file \u001b[38;5;129;01min\u001b[39;00m {\u001b[38;5;241m0\u001b[39m, \u001b[38;5;241m1\u001b[39m, \u001b[38;5;241m2\u001b[39m}:\n\u001b[0;32m    318\u001b[0m     \u001b[38;5;28;01mraise\u001b[39;00m \u001b[38;5;167;01mValueError\u001b[39;00m(\n\u001b[0;32m    319\u001b[0m         \u001b[38;5;124mf\u001b[39m\u001b[38;5;124m\"\u001b[39m\u001b[38;5;124mIPython won\u001b[39m\u001b[38;5;124m'\u001b[39m\u001b[38;5;124mt let you open fd=\u001b[39m\u001b[38;5;132;01m{\u001b[39;00mfile\u001b[38;5;132;01m}\u001b[39;00m\u001b[38;5;124m by default \u001b[39m\u001b[38;5;124m\"\u001b[39m\n\u001b[0;32m    320\u001b[0m         \u001b[38;5;124m\"\u001b[39m\u001b[38;5;124mas it is likely to crash IPython. If you know what you are doing, \u001b[39m\u001b[38;5;124m\"\u001b[39m\n\u001b[0;32m    321\u001b[0m         \u001b[38;5;124m\"\u001b[39m\u001b[38;5;124myou can use builtins\u001b[39m\u001b[38;5;124m'\u001b[39m\u001b[38;5;124m open.\u001b[39m\u001b[38;5;124m\"\u001b[39m\n\u001b[0;32m    322\u001b[0m     )\n\u001b[1;32m--> 324\u001b[0m \u001b[38;5;28;01mreturn\u001b[39;00m io_open(file, \u001b[38;5;241m*\u001b[39margs, \u001b[38;5;241m*\u001b[39m\u001b[38;5;241m*\u001b[39mkwargs)\n",
      "\u001b[1;31mFileNotFoundError\u001b[0m: [Errno 2] No such file or directory: 'empty_file.txt'"
     ]
    }
   ],
   "source": [
    "import os\n",
    "\n",
    "file_name = 'empty_file.txt'\n",
    "\n",
    "if os.path.exists(file_name) and os.stat(file_name).st_size == 0:\n",
    "    print(\"The file is empty.\")\n",
    "else:\n",
    "    with open(file_name, 'r') as file:\n",
    "        print(file.read())\n"
   ]
  },
  {
   "cell_type": "raw",
   "id": "62b782c0-6bf0-49ca-b9c0-c1e50d4e91dd",
   "metadata": {},
   "source": [
    "23. Write a Python program that writes to a log file when an error occurs during file handling."
   ]
  },
  {
   "cell_type": "code",
   "execution_count": 52,
   "id": "31069273-c528-4dbb-8a60-cc8decd332d6",
   "metadata": {},
   "outputs": [],
   "source": [
    "import logging\n",
    "\n",
    "\n",
    "logging.basicConfig(filename='file_error.log', level=logging.ERROR)\n",
    "\n",
    "try:\n",
    "    with open('non_existent_file.txt', 'r') as file:\n",
    "        content = file.read()\n",
    "except FileNotFoundError as e:\n",
    "    logging.error(f\"Error occurred: {e}\")\n"
   ]
  },
  {
   "cell_type": "code",
   "execution_count": null,
   "id": "fa9e5caa-e81d-40df-bbf7-abd2ec94b743",
   "metadata": {},
   "outputs": [],
   "source": []
  }
 ],
 "metadata": {
  "kernelspec": {
   "display_name": "Python 3 (ipykernel)",
   "language": "python",
   "name": "python3"
  },
  "language_info": {
   "codemirror_mode": {
    "name": "ipython",
    "version": 3
   },
   "file_extension": ".py",
   "mimetype": "text/x-python",
   "name": "python",
   "nbconvert_exporter": "python",
   "pygments_lexer": "ipython3",
   "version": "3.12.7"
  }
 },
 "nbformat": 4,
 "nbformat_minor": 5
}
